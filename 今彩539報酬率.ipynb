{
 "cells": [
  {
   "cell_type": "markdown",
   "metadata": {},
   "source": [
    "# 計算今彩539平均報酬率\n",
    " 每注平均中獎金額\n",
    " 報酬率 = (每注平均中獎金額 -每注下注金額) / 每注下注金額"
   ]
  },
  {
   "cell_type": "markdown",
   "metadata": {},
   "source": [
    "STEP1 每注平均中獎金額= (得獎金額*組合數)/所有組合數\n",
    "\n",
    "STEP2 報酬率 = (每注平均中獎金額 -每注下注金額) / 每注下注金額"
   ]
  },
  {
   "cell_type": "code",
   "execution_count": 1,
   "metadata": {},
   "outputs": [
    {
     "name": "stdout",
     "output_type": "stream",
     "text": [
      "報酬率= -44.16047047625995 %\n"
     ]
    }
   ],
   "source": [
    "from itertools import permutations\n",
    "import math\n",
    "math.factorial(5)\n",
    "\n",
    "num_list34 = [i for i in range(1, 35)]\n",
    "num_list5 = [i for i in range(1, 6)]\n",
    "num_list39 = [i for i in range(1, 40)]\n",
    "TOTLE=len(list(permutations(num_list39,5)))/math.factorial(5)\n",
    "\n",
    "##頭獎組合數\n",
    "permA = 1  \n",
    "##2獎組合數\n",
    "permB = (len(list(permutations(num_list5,4)))/ math.factorial(4))*len(list(permutations(num_list34,1)))\n",
    "##3獎組合數\n",
    "permC = (len(list(permutations(num_list5,3)))/ math.factorial(3))*(len(list(permutations(num_list34,2)))/math.factorial(2))\n",
    "##4獎組合數\n",
    "permD = (len(list(permutations(num_list5,2)))/ math.factorial(2))*(len(list(permutations(num_list34,3)))/math.factorial(3))\n",
    "\n",
    "TOTLE_money = permA*8000000 + permB*20000 + permC*300 + permD*50\n",
    "\n",
    "#每注平均中獎金額\n",
    "pre_MONEY = TOTLE_money / TOTLE\n",
    "\n",
    "#報酬率\n",
    "ANSER = (pre_MONEY-50)/50\n",
    "print('報酬率= ' + str (ANSER*100) + ' %' )\n",
    "\n"
   ]
  },
  {
   "cell_type": "code",
   "execution_count": 8,
   "metadata": {},
   "outputs": [
    {
     "name": "stdout",
     "output_type": "stream",
     "text": [
      "報酬率= -44.16047047625995 %\n"
     ]
    }
   ],
   "source": [
    "from itertools import combinations\n",
    "\n",
    "TOTLE_NEW=len(list(combinations(num_list39,5)))\n",
    "\n",
    "permAA = 1\n",
    "permBB = len(list(combinations(num_list5,4)))*len(list(combinations(num_list34,1)))\n",
    "permCC = len(list(combinations(num_list5,3)))*len(list(combinations(num_list34,2)))\n",
    "permDD = len(list(combinations(num_list5,2)))*len(list(combinations(num_list34,3)))\n",
    "\n",
    "\n",
    "\n",
    "TOTLE_money_NEW = permA*8000000 + permB*20000 + permC*300 + permD*50\n",
    "pre_MONEY_NEW = TOTLE_money_NEW / TOTLE_NEW\n",
    "ANSER_NEW = (pre_MONEY_NEW-50)/50\n",
    "print('報酬率= ' + str (ANSER_NEW*100) + ' %' )\n",
    "\n"
   ]
  },
  {
   "cell_type": "markdown",
   "metadata": {},
   "source": [
    "# 美國總統的身高近40年(10屆)是否有比較高?"
   ]
  },
  {
   "cell_type": "markdown",
   "metadata": {},
   "source": [
    "## STEP1 帶入美國總統的身高近40年資料"
   ]
  },
  {
   "cell_type": "code",
   "execution_count": 7,
   "metadata": {},
   "outputs": [
    {
     "name": "stdout",
     "output_type": "stream",
     "text": [
      "[189, 170, 189, 163, 183, 171, 185, 168, 173, 183, 173, 173, 175, 178, 183, 193, 178, 173, 174, 183, 183, 168, 170, 178, 182, 180, 183, 178, 182, 188, 175, 179, 183, 193, 182, 183, 177, 185, 188, 188, 182, 185]\n",
      "[183 193 182 183 177 185 188 188 182 185]\n"
     ]
    }
   ],
   "source": [
    "import csv\n",
    "import numpy as np\n",
    "import matplotlib.pyplot as plt\n",
    "from scipy import stats\n",
    "\n",
    "with open('president_heights.csv') as f:\n",
    "    myCsv = csv.reader(f)\n",
    "    headers = next(myCsv)\n",
    "    a=[int(row[2]) for row in myCsv]\n",
    "    print(a)\n",
    "    \n",
    "    #print(a)\n",
    "    a_old=np.array(a[:-10])\n",
    "    a_new=np.array(a[-10:])\n",
    "    print(a_new)\n",
    " #     print(a_old)\n",
    "    \n",
    "#nonMath = np.random.normal(66.0, 1.5, 100)\n",
    "    \n",
    "#nonMath   \n",
    "        \n",
    "       "
   ]
  },
  {
   "cell_type": "markdown",
   "metadata": {},
   "source": [
    "## STEP2 帶入公式  (two sample, 單尾 假設檢定)"
   ]
  },
  {
   "cell_type": "code",
   "execution_count": 85,
   "metadata": {},
   "outputs": [
    {
     "name": "stdout",
     "output_type": "stream",
     "text": [
      "non-math sample mean:178.21875\n",
      "math sample mean:184.6\n",
      "t-statistic:2.69562113651512\n",
      "p-value:0.005113\n"
     ]
    },
    {
     "data": {
      "image/png": "[encoded data removed]",
      "text/plain": [
       "<Figure size 432x288 with 1 Axes>"
      ]
     },
     "metadata": {
      "needs_background": "light"
     },
     "output_type": "display_data"
    }
   ],
   "source": [
    "import numpy as np\n",
    "import matplotlib.pyplot as plt\n",
    "from scipy import stats\n",
    "%matplotlib inline\n",
    "\n",
    "np.random.seed(123)\n",
    "nonMath = a_old  #----------------------------------> 帶入資料\n",
    "math = a_new     #----------------------------------> 帶入資料\n",
    "print(\"non-math sample mean:\" + str(nonMath.mean()))\n",
    "print(\"math sample mean:\" + str(math.mean()))\n",
    "\n",
    "# Independent T-Test\n",
    "t,p = stats.ttest_ind(math, nonMath)\n",
    "\n",
    "# ttest_ind is 2-tailed, so half the resulting p-value to get a 1-tailed p-value\n",
    "\n",
    "\n",
    "p1 = '%f' % (p/2)    #----------------------------------> 單尾  /2\n",
    "print(\"t-statistic:\" + str(t))\n",
    "print(\"p-value:\" + str(p1))\n",
    "\n",
    "pop = np.random.normal(nonMath.mean(), nonMath.std(), 100000)\n",
    "# calculate a 90% confidence interval. 10% of the probability is outside this, 5% in each tail\n",
    "ci = stats.norm.interval(0.90, nonMath.mean(), nonMath.std())\n",
    "plt.hist(pop, bins=100)\n",
    "# show the hypothesized population mean\n",
    "plt.axvline(pop.mean(), color='yellow', linestyle='dashed', linewidth=2)\n",
    "# show the right-tail confidence interval threshold - 5% of propbability is under the curve to the right of this.\n",
    "plt.axvline(ci[1], color='red', linestyle='dashed', linewidth=2)\n",
    "# show the t-statistic - the p-value is the area under the curve to the right of this\n",
    "plt.axvline(pop.mean() + t*pop.std(), color='magenta', linestyle='dashed', linewidth=2)\n",
    "plt.show()"
   ]
  },
  {
   "cell_type": "markdown",
   "metadata": {},
   "source": [
    "## 結論\n",
    "### 從以上資料可以得到\n",
    "non-math sample mean:178.21875\n",
    "\n",
    "math sample mean:184.6\n",
    "\n",
    "t-statistic:2.69562113651512\n",
    "\n",
    "p-value:0.005113\n",
    "\n",
    "### 從p-value<0.05  有顯著差異  (已把p值減半)\n",
    "\n"
   ]
  }
 ],
 "metadata": {
  "kernelspec": {
   "display_name": "Python 3",
   "language": "python",
   "name": "python3"
  },
  "language_info": {
   "codemirror_mode": {
    "name": "ipython",
    "version": 3
   },
   "file_extension": ".py",
   "mimetype": "text/x-python",
   "name": "python",
   "nbconvert_exporter": "python",
   "pygments_lexer": "ipython3",
   "version": "3.7.6"
  }
 },
 "nbformat": 4,
 "nbformat_minor": 4
}
